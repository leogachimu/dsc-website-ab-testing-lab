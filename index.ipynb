{
 "cells": [
  {
   "cell_type": "markdown",
   "metadata": {},
   "source": [
    "# Website A/B Testing - Lab\n",
    "\n",
    "## Introduction\n",
    "\n",
    "In this lab, you'll get another chance to practice your skills at conducting a full A/B test analysis. It will also be a chance to practice your data exploration and processing skills! The scenario you'll be investigating is data collected from the homepage of a music app page for audacity.\n",
    "\n",
    "## Objectives\n",
    "\n",
    "You will be able to:\n",
    "* Analyze the data from a website A/B test to draw relevant conclusions\n",
    "* Explore and analyze web action data"
   ]
  },
  {
   "cell_type": "markdown",
   "metadata": {},
   "source": [
    "## Exploratory Analysis\n",
    "\n",
    "Start by loading in the dataset stored in the file 'homepage_actions.csv'. Then conduct an exploratory analysis to get familiar with the data."
   ]
  },
  {
   "cell_type": "markdown",
   "metadata": {},
   "source": [
    "> Hints:\n",
    "    * Start investigating the id column:\n",
    "        * How many viewers also clicked?\n",
    "        * Are there any anomalies with the data; did anyone click who didn't view?\n",
    "        * Is there any overlap between the control and experiment groups? \n",
    "            * If so, how do you plan to account for this in your experimental design?"
   ]
  },
  {
   "cell_type": "code",
   "execution_count": 1,
   "metadata": {},
   "outputs": [],
   "source": [
    "import pandas as pd\n",
    "import numpy as np\n",
    "import scipy.stats as stats\n",
    "from statsmodels.stats.power import TTestIndPower, TTestPower\n",
    "from math import sqrt\n",
    "import matplotlib.pyplot as plt\n",
    "import seaborn as sns\n",
    "%matplotlib inline\n",
    "sns.set_style('darkgrid') # Nice background styling on plots"
   ]
  },
  {
   "cell_type": "code",
   "execution_count": 2,
   "metadata": {
    "scrolled": false
   },
   "outputs": [
    {
     "data": {
      "text/html": [
       "<div>\n",
       "<style scoped>\n",
       "    .dataframe tbody tr th:only-of-type {\n",
       "        vertical-align: middle;\n",
       "    }\n",
       "\n",
       "    .dataframe tbody tr th {\n",
       "        vertical-align: top;\n",
       "    }\n",
       "\n",
       "    .dataframe thead th {\n",
       "        text-align: right;\n",
       "    }\n",
       "</style>\n",
       "<table border=\"1\" class=\"dataframe\">\n",
       "  <thead>\n",
       "    <tr style=\"text-align: right;\">\n",
       "      <th></th>\n",
       "      <th>timestamp</th>\n",
       "      <th>id</th>\n",
       "      <th>group</th>\n",
       "      <th>action</th>\n",
       "    </tr>\n",
       "  </thead>\n",
       "  <tbody>\n",
       "    <tr>\n",
       "      <th>0</th>\n",
       "      <td>42:27.8</td>\n",
       "      <td>804196</td>\n",
       "      <td>experiment</td>\n",
       "      <td>view</td>\n",
       "    </tr>\n",
       "    <tr>\n",
       "      <th>1</th>\n",
       "      <td>19:03.5</td>\n",
       "      <td>434745</td>\n",
       "      <td>experiment</td>\n",
       "      <td>view</td>\n",
       "    </tr>\n",
       "    <tr>\n",
       "      <th>2</th>\n",
       "      <td>36:00.9</td>\n",
       "      <td>507599</td>\n",
       "      <td>experiment</td>\n",
       "      <td>view</td>\n",
       "    </tr>\n",
       "    <tr>\n",
       "      <th>3</th>\n",
       "      <td>59:02.6</td>\n",
       "      <td>671993</td>\n",
       "      <td>control</td>\n",
       "      <td>view</td>\n",
       "    </tr>\n",
       "    <tr>\n",
       "      <th>4</th>\n",
       "      <td>26:14.5</td>\n",
       "      <td>536734</td>\n",
       "      <td>experiment</td>\n",
       "      <td>view</td>\n",
       "    </tr>\n",
       "    <tr>\n",
       "      <th>...</th>\n",
       "      <td>...</td>\n",
       "      <td>...</td>\n",
       "      <td>...</td>\n",
       "      <td>...</td>\n",
       "    </tr>\n",
       "    <tr>\n",
       "      <th>8183</th>\n",
       "      <td>11:42.0</td>\n",
       "      <td>192060</td>\n",
       "      <td>experiment</td>\n",
       "      <td>view</td>\n",
       "    </tr>\n",
       "    <tr>\n",
       "      <th>8184</th>\n",
       "      <td>42:12.8</td>\n",
       "      <td>755912</td>\n",
       "      <td>experiment</td>\n",
       "      <td>view</td>\n",
       "    </tr>\n",
       "    <tr>\n",
       "      <th>8185</th>\n",
       "      <td>01:09.0</td>\n",
       "      <td>458115</td>\n",
       "      <td>experiment</td>\n",
       "      <td>view</td>\n",
       "    </tr>\n",
       "    <tr>\n",
       "      <th>8186</th>\n",
       "      <td>08:51.6</td>\n",
       "      <td>505451</td>\n",
       "      <td>control</td>\n",
       "      <td>view</td>\n",
       "    </tr>\n",
       "    <tr>\n",
       "      <th>8187</th>\n",
       "      <td>24:08.6</td>\n",
       "      <td>461199</td>\n",
       "      <td>control</td>\n",
       "      <td>view</td>\n",
       "    </tr>\n",
       "  </tbody>\n",
       "</table>\n",
       "<p>8188 rows × 4 columns</p>\n",
       "</div>"
      ],
      "text/plain": [
       "     timestamp      id       group action\n",
       "0      42:27.8  804196  experiment   view\n",
       "1      19:03.5  434745  experiment   view\n",
       "2      36:00.9  507599  experiment   view\n",
       "3      59:02.6  671993     control   view\n",
       "4      26:14.5  536734  experiment   view\n",
       "...        ...     ...         ...    ...\n",
       "8183   11:42.0  192060  experiment   view\n",
       "8184   42:12.8  755912  experiment   view\n",
       "8185   01:09.0  458115  experiment   view\n",
       "8186   08:51.6  505451     control   view\n",
       "8187   24:08.6  461199     control   view\n",
       "\n",
       "[8188 rows x 4 columns]"
      ]
     },
     "execution_count": 2,
     "metadata": {},
     "output_type": "execute_result"
    }
   ],
   "source": [
    "#Your code here\n",
    "web_df = pd.read_csv(\"homepage_actions.csv\")\n",
    "web_df"
   ]
  },
  {
   "cell_type": "code",
   "execution_count": 3,
   "metadata": {},
   "outputs": [
    {
     "name": "stdout",
     "output_type": "stream",
     "text": [
      "Number of duplicates = 0\n"
     ]
    }
   ],
   "source": [
    "# Check for duplicates\n",
    "num_duplicates = len(web_df[web_df.duplicated()])\n",
    "print(\"Number of duplicates =\", num_duplicates)"
   ]
  },
  {
   "cell_type": "code",
   "execution_count": 4,
   "metadata": {},
   "outputs": [
    {
     "name": "stdout",
     "output_type": "stream",
     "text": [
      "Number of overlapping entries = 0\n"
     ]
    }
   ],
   "source": [
    "# Check whether there is an overlap between the control and experiment group\n",
    "num_overlap = len(web_df[web_df.duplicated(['id']) & \n",
    "                         ~(web_df.duplicated(['group']))])\n",
    "print(\"Number of overlapping entries =\", num_overlap)"
   ]
  },
  {
   "cell_type": "code",
   "execution_count": 5,
   "metadata": {},
   "outputs": [
    {
     "name": "stdout",
     "output_type": "stream",
     "text": [
      "Number of people who clicked but didn't view = 0\n"
     ]
    }
   ],
   "source": [
    "# Check whether there is anyone who clicked without viewing\n",
    "num_duplicate_ids_with_double_clicks = len(web_df[web_df.duplicated(['id']) & \n",
    "                                                  (web_df['action'].nunique() == 1)])\n",
    "num_unique_ids_with_no_view = len((web_df[~(web_df.duplicated(['id'])) & \n",
    "                                          (web_df['action'] == 'click')]))\n",
    "print(\"Number of people who clicked but didn't view =\", \n",
    "      num_duplicate_ids_with_double_clicks + num_unique_ids_with_no_view)"
   ]
  },
  {
   "cell_type": "markdown",
   "metadata": {},
   "source": [
    "## Conduct a Statistical Test\n",
    "\n",
    "Conduct a statistical test to determine whether the experimental homepage was more effective than that of the control group."
   ]
  },
  {
   "cell_type": "code",
   "execution_count": 6,
   "metadata": {},
   "outputs": [
    {
     "data": {
      "image/png": "[encoded data removed]",
      "text/plain": [
       "<Figure size 640x480 with 1 Axes>"
      ]
     },
     "metadata": {},
     "output_type": "display_data"
    }
   ],
   "source": [
    "# Plot bar graphs of views and clicks for control and experiment groups\n",
    "fig, ax = plt.subplots()\n",
    "\n",
    "# Calculate the counts of views and clicks\n",
    "experiment_count_of_clicks = len(web_df.loc[(web_df['group'] == 'experiment') & \n",
    "                                            (web_df['action'] == 'click')])\n",
    "experiment_count_of_views = len(web_df.loc[(web_df['group'] == 'experiment') & \n",
    "                                            (web_df['action'] == 'view')])\n",
    "\n",
    "control_count_of_clicks = len(web_df.loc[(web_df['group'] == 'control') & \n",
    "                                            (web_df['action'] == 'click')])\n",
    "control_count_of_views = len(web_df.loc[(web_df['group'] == 'control') & \n",
    "                                            (web_df['action'] == 'view')])\n",
    "\n",
    "\n",
    "# Placeholder data for display purposes\n",
    "x = np.array([0, 5])\n",
    "offset = 1\n",
    "bar_width = 2\n",
    "\n",
    "# Plot bars\n",
    "ax.bar(x-offset, [experiment_count_of_views, experiment_count_of_clicks], \n",
    "       bar_width, label=\"Experiment\")\n",
    "ax.bar(x+offset, [control_count_of_views, control_count_of_clicks], \n",
    "       bar_width, label=\"Control\")\n",
    "\n",
    "# Customize appearance\n",
    "ax.set_xticks(x)\n",
    "ax.set_xticklabels([\"Views\", \"Clicks\"])\n",
    "ax.set_ylabel(\"Count\")\n",
    "ax.legend(loc=\"right\")\n",
    "fig.suptitle(\"Webpage Click-Through Rate Experiment\");"
   ]
  },
  {
   "cell_type": "code",
   "execution_count": 7,
   "metadata": {
    "scrolled": true
   },
   "outputs": [
    {
     "name": "stdout",
     "output_type": "stream",
     "text": [
      "Experimental Click-Through Rate = 0.3097463284379172\n",
      "Control Click-Through Rate = 0.2797118847539016\n"
     ]
    }
   ],
   "source": [
    "# Determine click-through rates\n",
    "# Given that there were no clicks without views,\n",
    "# Click-through rate = number of clicks/number of views\n",
    "\n",
    "experiment_count_of_clicks = len(web_df.loc[(web_df['group'] == 'experiment') & \n",
    "                                            (web_df['action'] == 'click')])\n",
    "experiment_count_of_views = len(web_df.loc[(web_df['group'] == 'experiment') & \n",
    "                                            (web_df['action'] == 'view')])\n",
    "experiment_click_through_rate = experiment_count_of_clicks / experiment_count_of_views\n",
    "\n",
    "control_count_of_clicks = len(web_df.loc[(web_df['group'] == 'control') & \n",
    "                                            (web_df['action'] == 'click')])\n",
    "control_count_of_views = len(web_df.loc[(web_df['group'] == 'control') & \n",
    "                                            (web_df['action'] == 'view')])\n",
    "control_click_through_rate = control_count_of_clicks / control_count_of_views\n",
    "\n",
    "print(\"Experimental Click-Through Rate =\", experiment_click_through_rate)\n",
    "print(\"Control Click-Through Rate =\", control_click_through_rate)"
   ]
  },
  {
   "cell_type": "code",
   "execution_count": 8,
   "metadata": {},
   "outputs": [
    {
     "name": "stdout",
     "output_type": "stream",
     "text": [
      " \n",
      "Hypothesis formulation:\n",
      "Null Hypothesis (H0) : The click-through rate of the experimental homepage is higher than that of the control group.\n",
      "\n",
      "Alternative Hypothesis (Ha) : The click-through rate of the experimental homepage is not higher than that of the control group.\n",
      "\n"
     ]
    }
   ],
   "source": [
    "print(\"\"\" \n",
    "Hypothesis formulation:\n",
    "Null Hypothesis (H0) : The click-through rate of the experimental homepage is higher than that of the control group.\n",
    "\n",
    "Alternative Hypothesis (Ha) : The click-through rate of the experimental homepage is not higher than that of the control group.\n",
    "\"\"\")"
   ]
  },
  {
   "cell_type": "code",
   "execution_count": 9,
   "metadata": {},
   "outputs": [
    {
     "data": {
      "text/plain": [
       "Power_divergenceResult(statistic=33.89952032315072, pvalue=5.8033006040559e-09)"
      ]
     },
     "execution_count": 9,
     "metadata": {},
     "output_type": "execute_result"
    }
   ],
   "source": [
    "# Perform a Chi-square test for goodness of fit\n",
    "experiment_result = stats.chisquare([experiment_count_of_views, experiment_count_of_clicks], \n",
    "                                    [control_count_of_views, control_count_of_clicks])\n",
    "experiment_result"
   ]
  },
  {
   "cell_type": "code",
   "execution_count": 10,
   "metadata": {},
   "outputs": [
    {
     "name": "stdout",
     "output_type": "stream",
     "text": [
      " The pvalue for one-tail test is about 5.8033006040559e-09, which is much less than an experimental \n",
      "significance level of alpha=0.05.\n",
      "Therefore, I reject the null hypothesis and conclude that the experimental homepage\n",
      "performed better that of the control group. \n",
      "\n"
     ]
    }
   ],
   "source": [
    "print(\"\"\" The pvalue for one-tail test is about 5.8033006040559e-09, which is much less than an experimental \n",
    "significance level of alpha=0.05.\n",
    "Therefore, I reject the null hypothesis and conclude that the experimental homepage\n",
    "performed better that of the control group. \n",
    "\"\"\")"
   ]
  },
  {
   "cell_type": "markdown",
   "metadata": {},
   "source": [
    "## Verifying Results\n",
    "\n",
    "One sensible formulation of the data to answer the hypothesis test above would be to create a binary variable representing each individual in the experiment and control group. This binary variable would represent whether or not that individual clicked on the homepage; 1 for they did and 0 if they did not. \n",
    "\n",
    "The variance for the number of successes in a sample of a binomial variable with n observations is given by:\n",
    "\n",
    "## $n\\bullet p (1-p)$\n",
    "\n",
    "Given this, perform 3 steps to verify the results of your statistical test:\n",
    "1. Calculate the expected number of clicks for the experiment group, if it had the same click-through rate as that of the control group. \n",
    "2. Calculate the number of standard deviations that the actual number of clicks was from this estimate. \n",
    "3. Finally, calculate a p-value using the normal distribution based on this z-score."
   ]
  },
  {
   "cell_type": "markdown",
   "metadata": {},
   "source": [
    "### Step 1:\n",
    "Calculate the expected number of clicks for the experiment group, if it had the same click-through rate as that of the control group. "
   ]
  },
  {
   "cell_type": "code",
   "execution_count": 11,
   "metadata": {},
   "outputs": [
    {
     "name": "stdout",
     "output_type": "stream",
     "text": [
      "Number of Expected Clicks = 838\n"
     ]
    }
   ],
   "source": [
    "# For each unqique id, replace a click with one and a no click with zero\n",
    "web_df['action'] = web_df['action'].replace(['view', 'click'], [0,1])\n",
    "\n",
    "# Compute the click-through rate of the control group\n",
    "num_control_clicks = len(web_df[(web_df['group'] == 'control') & (web_df['action'] == 1)])\n",
    "num_control_views = len(web_df[(web_df['group'] == 'control') & (web_df['action'] == 0)])\n",
    "control_click_through_rate = num_control_clicks / num_control_views\n",
    "\n",
    "# Compute the expected count of clicks\n",
    "num_experimental_views = len(web_df[(web_df['group'] == 'experiment') & \n",
    "                                    (web_df['action'] == 0)])\n",
    "num_expected_clicks = num_experimental_views * control_click_through_rate\n",
    "\n",
    "# Print the result\n",
    "print('Number of Expected Clicks =', int(num_expected_clicks))"
   ]
  },
  {
   "cell_type": "markdown",
   "metadata": {},
   "source": [
    "### Step 2:\n",
    "Calculate the number of standard deviations that the actual number of clicks was from this estimate."
   ]
  },
  {
   "cell_type": "code",
   "execution_count": 12,
   "metadata": {},
   "outputs": [
    {
     "name": "stdout",
     "output_type": "stream",
     "text": [
      "Number of Standard Deviations = 3.200282505769741\n"
     ]
    }
   ],
   "source": [
    "# Z-score = (actual value - expected value) / (standard deviation/sqrt(sample size))\n",
    "# standard deviation = sqrt(variance)\n",
    "p = control_click_through_rate\n",
    "n = len(web_df[(web_df['group'] == 'experiment')])\n",
    "variance = n * p * (1-p)\n",
    "sigma = sqrt(variance)\n",
    "\n",
    "num_experimental_clicks = len(web_df[(web_df['group'] == 'experiment') & \n",
    "                                     (web_df['action'] == 1)])\n",
    "\n",
    "z_score = (num_experimental_clicks - num_expected_clicks) / sigma\n",
    "print('Number of Standard Deviations =', z_score)"
   ]
  },
  {
   "cell_type": "markdown",
   "metadata": {},
   "source": [
    "### Step 3: \n",
    "Finally, calculate a p-value using the normal distribution based on this z-score."
   ]
  },
  {
   "cell_type": "code",
   "execution_count": 13,
   "metadata": {},
   "outputs": [
    {
     "data": {
      "text/plain": [
       "0.0006864647235972354"
      ]
     },
     "execution_count": 13,
     "metadata": {},
     "output_type": "execute_result"
    }
   ],
   "source": [
    "# P-value for a normal distribution\n",
    "p_value = 1 - stats.norm.cdf(z_score)\n",
    "p_value"
   ]
  },
  {
   "cell_type": "markdown",
   "metadata": {},
   "source": [
    "### Analysis:\n",
    "\n",
    "Does this result roughly match that of the previous statistical test?\n",
    "\n",
    "> Comment: **Your analysis here**\n",
    "\n",
    "<font color='blue'>Yes, while the p-value is higher than in the previous Chi-square test, but both would lead to \n",
    "confident rejection of the null hypothesis. The experimental homepage has a significantly better performance than \n",
    "that of the control group.<font>"
   ]
  },
  {
   "cell_type": "markdown",
   "metadata": {},
   "source": [
    "## Summary\n",
    "\n",
    "In this lab, you continued to get more practice designing and conducting AB tests. This required additional work preprocessing and formulating the initial problem in a suitable manner. Additionally, you also saw how to verify results, strengthening your knowledge of binomial variables, and reviewing initial statistical concepts of the central limit theorem, standard deviation, z-scores, and their accompanying p-values."
   ]
  }
 ],
 "metadata": {
  "kernelspec": {
   "display_name": "Python 3 (ipykernel)",
   "language": "python",
   "name": "python3"
  },
  "language_info": {
   "codemirror_mode": {
    "name": "ipython",
    "version": 3
   },
   "file_extension": ".py",
   "mimetype": "text/x-python",
   "name": "python",
   "nbconvert_exporter": "python",
   "pygments_lexer": "ipython3",
   "version": "3.8.1"
  }
 },
 "nbformat": 4,
 "nbformat_minor": 2
}
